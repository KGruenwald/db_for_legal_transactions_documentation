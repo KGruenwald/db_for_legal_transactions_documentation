{
 "cells": [
  {
   "cell_type": "code",
   "execution_count": 1,
   "metadata": {
    "pycharm": {
     "is_executing": false
    }
   },
   "outputs": [],
   "source": [
    "import os\n",
    "import pandas as pd\n",
    "import re\n",
    "from lxml import etree\n",
    "from datetime import datetime\n",
    "\n",
    "ns = {'tei': 'http://www.tei-c.org/ns/1.0', \"xml\": \"http://www.w3.org/XML/1998/namespace\"}\n",
    "\n",
    "\n",
    "def readfiles(pathtofiles):\n",
    "    kinsFrame = pd.DataFrame()\n",
    "    kins =[]\n",
    "    persons = []\n",
    "    relatedPersons =[]\n",
    "    regests = []\n",
    "    regest_dates = []\n",
    "    for filename in os.listdir(pathtofiles):\n",
    "\n",
    "        regesttree = etree.parse(pathtofiles+\"/\"+filename)\n",
    "        regestroot = regesttree.getroot()\n",
    "        actualregest = regestroot.find(\".//tei:idno\", ns).text\n",
    "        date = createdate(regestroot.find(\".//tei:creation/tei:date\", ns))\n",
    "        kinNodes = regestroot.findall(\".//*[@type='kin']\")\n",
    "        for rs in kinNodes:\n",
    "            kintext = rs.text\n",
    "            if 'corresp' in rs.attrib:\n",
    "                relatedPerson = rs.attrib['corresp']\n",
    "            elif 'ref' in rs.attrib:\n",
    "                relatedPerson = rs.attrib['ref']\n",
    "            else:\n",
    "                relatedPerson = \"None\"\n",
    "            \n",
    "            person = rs.find(\"./..[@type='person']\")\n",
    "            if person is not None:\n",
    "                personref = person.attrib['ref']\n",
    "            else:\n",
    "                personref = \" \"\n",
    "            \n",
    "            kins.append(kintext)\n",
    "            persons.append(personref)\n",
    "            relatedPersons.append(relatedPerson)\n",
    "            regests.append(actualregest)\n",
    "            regest_dates.append(date)\n",
    "    \n",
    "    \n",
    "    \n",
    "    kinsFrame[\"Kin\"] = kins\n",
    "    kinsFrame[\"Person\"] = persons\n",
    "    kinsFrame[\"Related Person\"] = relatedPersons\n",
    "    kinsFrame[\"Regest\"] = regests\n",
    "    kinsFrame[\"Date\"] = regest_dates\n",
    "    \n",
    "    \n",
    "    writer = pd.ExcelWriter('../data/output/xlsx/kinRelations.xlsx')\n",
    "    kinsFrame.to_excel(writer, 'kinRelations', index=False)\n",
    "    writer.save()\n",
    "    \n",
    "    kinsFrame.to_csv(\"../data/output/csv/kinRelations.csv\", sep=\"\\t\", encoding=\"utf-8\")\n",
    "\n",
    "\n",
    "\n",
    "\n",
    "\n",
    "def createdate(node):\n",
    "    when = node.attrib['when']\n",
    "    return datetime.strptime(when, '%Y%m%d').date()\n",
    "\n",
    "    \n",
    "    createcoloumns(listofpersons)  \n",
    "    \n",
    "    \n",
    "    \n",
    "\n",
    "readfiles(\"../../regests_QGW_PR_Stadt_ab_1400/done\")"
   ]
  }
 ],
 "metadata": {
  "kernelspec": {
   "display_name": "Python 3",
   "language": "python",
   "name": "python3"
  },
  "language_info": {
   "codemirror_mode": {
    "name": "ipython",
    "version": 3
   },
   "file_extension": ".py",
   "mimetype": "text/x-python",
   "name": "python",
   "nbconvert_exporter": "python",
   "pygments_lexer": "ipython3",
   "version": "3.7.4"
  },
  "pycharm": {
   "stem_cell": {
    "cell_type": "raw",
    "metadata": {
     "collapsed": false
    },
    "source": []
   }
  }
 },
 "nbformat": 4,
 "nbformat_minor": 1
}
