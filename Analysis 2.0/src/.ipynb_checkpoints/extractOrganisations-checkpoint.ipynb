{
 "cells": [
  {
   "cell_type": "code",
   "execution_count": 1,
   "metadata": {
    "pycharm": {
     "is_executing": false,
     "name": "#%%\n"
    }
   },
   "outputs": [],
   "source": [
    "import os\n",
    "from bs4 import BeautifulSoup\n",
    "import pandas as pd\n",
    "\n",
    "ns = {'tei': 'http://www.tei-c.org/ns/1.0', \"xml\": \"http://www.w3.org/XML/1998/namespace\"}\n",
    "\n",
    "\n",
    "def readfiles(pathtofiles):\n",
    "    personsFrame = pd.DataFrame()\n",
    "    orgsDict = {}\n",
    "    orgslist = []\n",
    "    orgsref = []\n",
    "    orgstext = []\n",
    "    orgsvorkommen = []\n",
    "    orgfiles = []\n",
    "    orgslistvorkommen = []\n",
    "    for filename in os.listdir(pathtofiles):\n",
    "       with open(pathtofiles+\"/\"+filename, encoding=\"utf-8\") as infile:\n",
    "           blob = infile.read()\n",
    "           soup = BeautifulSoup(blob, 'lxml')\n",
    "           personNodes = soup.findAll(type=\"org\")\n",
    "           for rs in personNodes:\n",
    "               text = ' '.join(rs.text.replace(\"\\n\", \"\").split())\n",
    "               if rs.has_attr('ref'):\n",
    "                    ref = rs['ref']\n",
    "                    if ref not in orgsDict:\n",
    "                        sublist = [text, 1, [filename]]\n",
    "                        orgsDict[ref] = sublist\n",
    "                    else:\n",
    "                        orgsDict[ref][1] += 1\n",
    "                        if filename not in orgsDict[ref][2]:\n",
    "                            orgsDict[ref][2].append(filename)\n",
    "               else:\n",
    "                   orgslist.append(text)\n",
    "                   orgslistvorkommen.append(filename)\n",
    "\n",
    "\n",
    "    for key, item in orgsDict.items():\n",
    "        orgsref.append(key)\n",
    "        orgstext.append(item[0])\n",
    "        orgsvorkommen.append(item[1])\n",
    "        filestring = \", \".join(item[2])\n",
    "        orgfiles.append(filestring)\n",
    "\n",
    "    for entry in orgslist:\n",
    "        orgsref.append('')\n",
    "        orgstext.append(entry)\n",
    "        orgsvorkommen.append(1)\n",
    "\n",
    "    for entry in orgslistvorkommen:\n",
    "        orgfiles.append(entry)\n",
    "\n",
    "\n",
    "    personsFrame['ref'] = orgsref\n",
    "    personsFrame['text'] = orgstext\n",
    "    personsFrame['anzahl'] = orgsvorkommen\n",
    "    personsFrame['xml'] = orgfiles\n",
    "\n",
    "    personsFrame.to_csv(\"../data/output/csv/extractedOrganisations.csv\", sep=\";\", encoding=\"utf-8\")\n",
    "    writer = pd.ExcelWriter('../data/output/xlsx/extractedOrganisations.xlsx')\n",
    "    personsFrame.to_excel(writer, 'ExtractedOrganisations', index=False)\n",
    "    writer.save()\n",
    "\n",
    "\n",
    "readfiles(\"../../regests_QGW_PR_Stadt_ab_1400/done\")\n",
    "\n"
   ]
  }
 ],
 "metadata": {
  "kernelspec": {
   "display_name": "Python 3",
   "language": "python",
   "name": "python3"
  },
  "language_info": {
   "codemirror_mode": {
    "name": "ipython",
    "version": 3
   },
   "file_extension": ".py",
   "mimetype": "text/x-python",
   "name": "python",
   "nbconvert_exporter": "python",
   "pygments_lexer": "ipython3",
   "version": "3.7.4"
  },
  "pycharm": {
   "stem_cell": {
    "cell_type": "raw",
    "metadata": {
     "collapsed": false
    },
    "source": []
   }
  }
 },
 "nbformat": 4,
 "nbformat_minor": 1
}
