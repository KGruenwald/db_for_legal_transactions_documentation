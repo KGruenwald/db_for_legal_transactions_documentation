{
 "cells": [
  {
   "cell_type": "code",
   "execution_count": 2,
   "metadata": {
    "pycharm": {
     "is_executing": false
    }
   },
   "outputs": [],
   "source": [
    "\n",
    "import os\n",
    "from bs4 import BeautifulSoup\n",
    "import pandas as pd\n",
    "\n",
    "ns = {'tei': 'http://www.tei-c.org/ns/1.0', \"xml\": \"http://www.w3.org/XML/1998/namespace\"}\n",
    "\n",
    "\n",
    "def readfiles(pathtofiles):\n",
    "    personsFrame = pd.DataFrame()\n",
    "    personsDict = {}\n",
    "    personslist = []\n",
    "    personsref = []\n",
    "    personstext = []\n",
    "    personvorkommen = []\n",
    "    personfiles = []\n",
    "    personslistvorkommen = []\n",
    "    for filename in os.listdir(pathtofiles):\n",
    "       with open(pathtofiles+\"/\"+filename, encoding=\"utf-8\") as infile:\n",
    "           blob = infile.read()\n",
    "           soup = BeautifulSoup(blob, 'lxml')\n",
    "           personNodes = soup.findAll(type=\"person\")\n",
    "           for rs in personNodes:\n",
    "               text = ' '.join(rs.text.replace(\"\\n\", \"\").split())\n",
    "               if rs.has_attr('ref'):\n",
    "                    ref = rs['ref']\n",
    "                    if ref not in personsDict:\n",
    "                        sublist = [text, 1, [filename]]\n",
    "                        personsDict[ref] = sublist\n",
    "                    else:\n",
    "                        personsDict[ref][1] += 1\n",
    "                        if filename not in personsDict[ref][2]:\n",
    "                            personsDict[ref][2].append(filename)\n",
    "               else:\n",
    "                   personslist.append(text)\n",
    "                   personslistvorkommen.append(filename)\n",
    "\n",
    "\n",
    "    for key, item in personsDict.items():\n",
    "        personsref.append(key)\n",
    "        personstext.append(item[0])\n",
    "        personvorkommen.append(item[1])\n",
    "        filestring = \", \".join(item[2])\n",
    "        personfiles.append(filestring)\n",
    "\n",
    "    for entry in personslist:\n",
    "        personsref.append('')\n",
    "        personstext.append(entry)\n",
    "        personvorkommen.append(1)\n",
    "\n",
    "    for entry in personslistvorkommen:\n",
    "        personfiles.append(entry)\n",
    "\n",
    "\n",
    "    personsFrame['ref'] = personsref\n",
    "    personsFrame['text'] = personstext\n",
    "    personsFrame['anzahl'] = personvorkommen\n",
    "    personsFrame['xml'] = personfiles\n",
    "\n",
    "    personsFrame.to_csv(\"../data/output/extrectedPersons.csv\", sep=\";\", encoding=\"utf-8\")\n",
    "\n",
    "\n",
    "readfiles(\"../../data/done\")"
   ]
  }
 ],
 "metadata": {
  "kernelspec": {
   "display_name": "Python 3",
   "language": "python",
   "name": "python3"
  },
  "language_info": {
   "codemirror_mode": {
    "name": "ipython",
    "version": 3
   },
   "file_extension": ".py",
   "mimetype": "text/x-python",
   "name": "python",
   "nbconvert_exporter": "python",
   "pygments_lexer": "ipython3",
   "version": "3.7.4"
  },
  "pycharm": {
   "stem_cell": {
    "cell_type": "raw",
    "metadata": {
     "collapsed": false
    },
    "source": []
   }
  }
 },
 "nbformat": 4,
 "nbformat_minor": 1
}
