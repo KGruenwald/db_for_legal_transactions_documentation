{
 "cells": [
  {
   "cell_type": "code",
   "execution_count": 4,
   "metadata": {},
   "outputs": [
    {
     "name": "stdout",
     "output_type": "stream",
     "text": [
      "['weinbergmaier_richard', 'gruenwald_korbinian', 'weinbergmaier_richard', 'gruenwald_korbinian', 'weinbergmaier_richard', 'gruenwald_korbinian', 'weinbergmaier_richard', 'gruenwald_korbinian', 'weinbergmaier_richard', 'gruenwald_korbinian', 'weinbergmaier_richard', 'gruenwald_korbinian', 'weinbergmaier_richard', 'gruenwald_korbinian', 'weinbergmaier_richard', 'gruenwald_korbinian', 'weinbergmaier_richard', 'gruenwald_korbinian', 'weinbergmaier_richard', 'gruenwald_korbinian', 'weinbergmaier_richard', 'gruenwald_korbinian', 'weinbergmaier_richard', 'gruenwald_korbinian', 'weinbergmaier_richard', 'gruenwald_korbinian', 'weinbergmaier_richard', 'gruenwald_korbinian', 'gruenwald_korbinian', 'gruenwald_korbinian', 'gruenwald_korbinian', 'gruenwald_korbinian', 'gruenwald_korbinian', 'gruenwald_korbinian', 'gruenwald_korbinian', 'gruenwald_korbinian', 'gruenwald_korbinian', 'gruenwald_korbinian', 'gruenwald_korbinian', 'gruenwald_korbinian', 'gruenwald_korbinian', 'gruenwald_korbinian', 'gruenwald_korbinian', 'gruenwald_korbinian', 'gruenwald_korbinian', 'gruenwald_korbinian', 'gruenwald_korbinian', 'gruenwald_korbinian', 'gruenwald_korbinian', 'gruenwald_korbinian', 'gruenwald_korbinian', 'gruenwald_korbinian', 'gruenwald_korbinian', 'gruenwald_korbinian', 'gruenwald_korbinian', 'gruenwald_korbinian', 'gruenwald_korbinian', 'gruenwald_korbinian', 'gruenwald_korbinian', 'gruenwald_korbinian', 'gruenwald_korbinian', 'gruenwald_korbinian', 'gruenwald_korbinian', 'gruenwald_korbinian', 'gruenwald_korbinian', 'gruenwald_korbinian', 'weinbergmaier_richard', 'gruenwald_korbinian', 'gruenwald_korbinian', 'gruenwald_korbinian', 'gruenwald_korbinian', 'gruenwald_korbinian', 'gruenwald_korbinian', 'gruenwald_korbinian', 'gruenwald_korbinian', 'gruenwald_korbinian', 'gruenwald_korbinian', 'gruenwald_korbinian', 'gruenwald_korbinian', 'gruenwald_korbinian', 'gruenwald_korbinian', 'gruenwald_korbinian', 'gruenwald_korbinian', 'gruenwald_korbinian', 'gruenwald_korbinian', 'gruenwald_korbinian', 'gruenwald_korbinian', 'gruenwald_korbinian', 'gruenwald_korbinian']\n"
     ]
    }
   ],
   "source": [
    "# Simple skript to identify referenzes of persons without entry in personlist.xml\n",
    "\n",
    "\n",
    "import os\n",
    "import pandas as pd\n",
    "import re\n",
    "from lxml import etree\n",
    "from datetime import datetime\n",
    "\n",
    "ns = {'tei': 'http://www.tei-c.org/ns/1.0', \"xml\": \"http://www.w3.org/XML/1998/namespace\"}\n",
    "\n",
    "\n",
    "\n",
    "\n",
    "def readlist(pathtofile, filename):\n",
    "      tree = etree.parse(pathtofile+\"/\"+filename)\n",
    "      return tree\n",
    "\n",
    "\n",
    "\n",
    "def readfiles(pathtofiles, listpersons):\n",
    "    listpersonids = []\n",
    "    notfoundlist = []\n",
    "    regestlist = []\n",
    "    for listperson in listpersons:\n",
    "      listpersonids.append(listperson.attrib[\"{http://www.w3.org/XML/1998/namespace}id\"])\n",
    "    for filename in os.listdir(pathtofiles):\n",
    "       regesttree = etree.parse(pathtofiles+\"/\"+filename)\n",
    "       regestroot = regesttree.getroot()\n",
    "       refs = regestroot.xpath('//*[@type=\"person\"]/@ref')\n",
    "       distrefs = list(set(refs))\n",
    "\n",
    "       for distref in distrefs:\n",
    "           cleanedup = distref.replace(\"#\", \"\")\n",
    "           if  cleanedup not in listpersonids:\n",
    "                notfoundlist.append(distref)\n",
    "                regestlist.append(filename)\n",
    "\n",
    "\n",
    "    print(notfoundlist)\n",
    "    personframe = pd.DataFrame()\n",
    "    personframe['regest'] = regestlist\n",
    "    personframe['id'] = notfoundlist\n",
    "\n",
    "    personframe.to_csv(\"../data/notfoundPersons.csv\", sep=\"\\t\", encoding=\"utf-8\")\n",
    "\n",
    "\n",
    "\n",
    "personlistroot = readlist(\"../../indices/lists\", \"personList.xml\")\n",
    "\n",
    "listpersons = personlistroot.findall('//tei:person', ns)\n",
    "\n",
    "readfiles(\"../../sources/Satzbuch_CD/1448/done\", listpersons)\n",
    "print(\"done\")"
   ]
  }
 ],
 "metadata": {
  "kernelspec": {
   "display_name": "Python 3",
   "language": "python",
   "name": "python3"
  },
  "language_info": {
   "codemirror_mode": {
    "name": "ipython",
    "version": 3
   },
   "file_extension": ".py",
   "mimetype": "text/x-python",
   "name": "python",
   "nbconvert_exporter": "python",
   "pygments_lexer": "ipython3",
   "version": "3.7.4"
  }
 },
 "nbformat": 4,
 "nbformat_minor": 1
}