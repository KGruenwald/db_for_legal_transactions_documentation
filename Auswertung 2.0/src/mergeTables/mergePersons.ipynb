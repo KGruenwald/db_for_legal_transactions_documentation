{
 "cells": [
  {
   "cell_type": "code",
   "execution_count": 5,
   "outputs": [
    {
     "ename": "ModuleNotFoundError",
     "evalue": "No module named 'openpyxl'",
     "output_type": "error",
     "traceback": [
      "\u001B[0;31m---------------------------------------------------------------------------\u001B[0m",
      "\u001B[0;31mModuleNotFoundError\u001B[0m                       Traceback (most recent call last)",
      "\u001B[0;32m<ipython-input-5-2d694e24a64c>\u001B[0m in \u001B[0;36m<module>\u001B[0;34m\u001B[0m\n\u001B[1;32m     62\u001B[0m     \u001B[0mwriter\u001B[0m\u001B[0;34m.\u001B[0m\u001B[0msave\u001B[0m\u001B[0;34m(\u001B[0m\u001B[0;34m)\u001B[0m\u001B[0;34m\u001B[0m\u001B[0;34m\u001B[0m\u001B[0m\n\u001B[1;32m     63\u001B[0m \u001B[0;34m\u001B[0m\u001B[0m\n\u001B[0;32m---> 64\u001B[0;31m \u001B[0mmergeTable\u001B[0m\u001B[0;34m(\u001B[0m\u001B[0;34m\"../../data/output/csv/extractedAllPersons.csv\"\u001B[0m\u001B[0;34m,\u001B[0m \u001B[0;34m'ID'\u001B[0m\u001B[0;34m)\u001B[0m\u001B[0;34m\u001B[0m\u001B[0;34m\u001B[0m\u001B[0m\n\u001B[0m",
      "\u001B[0;32m<ipython-input-5-2d694e24a64c>\u001B[0m in \u001B[0;36mmergeTable\u001B[0;34m(csv, mergeover)\u001B[0m\n\u001B[1;32m     28\u001B[0m         \u001B[0mnewlist\u001B[0m\u001B[0;34m.\u001B[0m\u001B[0mappend\u001B[0m\u001B[0;34m(\u001B[0m\u001B[0msublist\u001B[0m\u001B[0;34m)\u001B[0m\u001B[0;34m\u001B[0m\u001B[0;34m\u001B[0m\u001B[0m\n\u001B[1;32m     29\u001B[0m \u001B[0;34m\u001B[0m\u001B[0m\n\u001B[0;32m---> 30\u001B[0;31m     \u001B[0mwritetotable\u001B[0m\u001B[0;34m(\u001B[0m\u001B[0mnewlist\u001B[0m\u001B[0;34m)\u001B[0m\u001B[0;34m\u001B[0m\u001B[0;34m\u001B[0m\u001B[0m\n\u001B[0m\u001B[1;32m     31\u001B[0m \u001B[0;34m\u001B[0m\u001B[0m\n\u001B[1;32m     32\u001B[0m \u001B[0;34m\u001B[0m\u001B[0m\n",
      "\u001B[0;32m<ipython-input-5-2d694e24a64c>\u001B[0m in \u001B[0;36mwritetotable\u001B[0;34m(newlist)\u001B[0m\n\u001B[1;32m     58\u001B[0m \u001B[0;34m\u001B[0m\u001B[0m\n\u001B[1;32m     59\u001B[0m     \u001B[0mnewFrame\u001B[0m\u001B[0;34m.\u001B[0m\u001B[0mto_csv\u001B[0m\u001B[0;34m(\u001B[0m\u001B[0;34m\"../../data/output/csv/MergedAllPersons.csv\"\u001B[0m\u001B[0;34m,\u001B[0m \u001B[0msep\u001B[0m\u001B[0;34m=\u001B[0m\u001B[0;34m\"\\t\"\u001B[0m\u001B[0;34m,\u001B[0m \u001B[0mencoding\u001B[0m\u001B[0;34m=\u001B[0m\u001B[0;34m\"ISO-8859-1\"\u001B[0m\u001B[0;34m)\u001B[0m\u001B[0;34m\u001B[0m\u001B[0;34m\u001B[0m\u001B[0m\n\u001B[0;32m---> 60\u001B[0;31m     \u001B[0mwriter\u001B[0m \u001B[0;34m=\u001B[0m \u001B[0mpd\u001B[0m\u001B[0;34m.\u001B[0m\u001B[0mExcelWriter\u001B[0m\u001B[0;34m(\u001B[0m\u001B[0;34m'../data/output/xlsx/MergedAllPersons.xlsx'\u001B[0m\u001B[0;34m)\u001B[0m\u001B[0;34m\u001B[0m\u001B[0;34m\u001B[0m\u001B[0m\n\u001B[0m\u001B[1;32m     61\u001B[0m     \u001B[0mnewFrame\u001B[0m\u001B[0;34m.\u001B[0m\u001B[0mto_excel\u001B[0m\u001B[0;34m(\u001B[0m\u001B[0mwriter\u001B[0m\u001B[0;34m,\u001B[0m \u001B[0;34m'AllPersons'\u001B[0m\u001B[0;34m,\u001B[0m \u001B[0mindex\u001B[0m\u001B[0;34m=\u001B[0m\u001B[0;32mFalse\u001B[0m\u001B[0;34m)\u001B[0m\u001B[0;34m\u001B[0m\u001B[0;34m\u001B[0m\u001B[0m\n\u001B[1;32m     62\u001B[0m     \u001B[0mwriter\u001B[0m\u001B[0;34m.\u001B[0m\u001B[0msave\u001B[0m\u001B[0;34m(\u001B[0m\u001B[0;34m)\u001B[0m\u001B[0;34m\u001B[0m\u001B[0;34m\u001B[0m\u001B[0m\n",
      "\u001B[0;32m/usr/local/lib/python3.6/dist-packages/pandas/io/excel/_openpyxl.py\u001B[0m in \u001B[0;36m__init__\u001B[0;34m(self, path, engine, mode, **engine_kwargs)\u001B[0m\n\u001B[1;32m     16\u001B[0m     \u001B[0;32mdef\u001B[0m \u001B[0m__init__\u001B[0m\u001B[0;34m(\u001B[0m\u001B[0mself\u001B[0m\u001B[0;34m,\u001B[0m \u001B[0mpath\u001B[0m\u001B[0;34m,\u001B[0m \u001B[0mengine\u001B[0m\u001B[0;34m=\u001B[0m\u001B[0;32mNone\u001B[0m\u001B[0;34m,\u001B[0m \u001B[0mmode\u001B[0m\u001B[0;34m=\u001B[0m\u001B[0;34m\"w\"\u001B[0m\u001B[0;34m,\u001B[0m \u001B[0;34m**\u001B[0m\u001B[0mengine_kwargs\u001B[0m\u001B[0;34m)\u001B[0m\u001B[0;34m:\u001B[0m\u001B[0;34m\u001B[0m\u001B[0;34m\u001B[0m\u001B[0m\n\u001B[1;32m     17\u001B[0m         \u001B[0;31m# Use the openpyxl module as the Excel writer.\u001B[0m\u001B[0;34m\u001B[0m\u001B[0;34m\u001B[0m\u001B[0;34m\u001B[0m\u001B[0m\n\u001B[0;32m---> 18\u001B[0;31m         \u001B[0;32mfrom\u001B[0m \u001B[0mopenpyxl\u001B[0m\u001B[0;34m.\u001B[0m\u001B[0mworkbook\u001B[0m \u001B[0;32mimport\u001B[0m \u001B[0mWorkbook\u001B[0m\u001B[0;34m\u001B[0m\u001B[0;34m\u001B[0m\u001B[0m\n\u001B[0m\u001B[1;32m     19\u001B[0m \u001B[0;34m\u001B[0m\u001B[0m\n\u001B[1;32m     20\u001B[0m         \u001B[0msuper\u001B[0m\u001B[0;34m(\u001B[0m\u001B[0;34m)\u001B[0m\u001B[0;34m.\u001B[0m\u001B[0m__init__\u001B[0m\u001B[0;34m(\u001B[0m\u001B[0mpath\u001B[0m\u001B[0;34m,\u001B[0m \u001B[0mmode\u001B[0m\u001B[0;34m=\u001B[0m\u001B[0mmode\u001B[0m\u001B[0;34m,\u001B[0m \u001B[0;34m**\u001B[0m\u001B[0mengine_kwargs\u001B[0m\u001B[0;34m)\u001B[0m\u001B[0;34m\u001B[0m\u001B[0;34m\u001B[0m\u001B[0m\n",
      "\u001B[0;31mModuleNotFoundError\u001B[0m: No module named 'openpyxl'"
     ]
    }
   ],
   "source": [
    "import pandas as pd\n",
    "import numpy as np\n",
    "\n",
    "\n",
    "def mergeTable(csv, mergeover):\n",
    "\n",
    "    csv = pd.read_csv(csv, encoding=\"ISO-8859-1\", delimiter=\"\\t\")\n",
    "\n",
    "\n",
    "    filteredlist = csv[mergeover]\n",
    "    filteredset = set(filteredlist)\n",
    "    filteredlist = list(filteredset)\n",
    "\n",
    "    newlist = []\n",
    "    for item in filteredlist:\n",
    "        filter = csv[mergeover] == item\n",
    "        filteredlist = csv[filter]\n",
    "        id = filteredlist['ID'].tolist()[0]\n",
    "        name = str(filteredlist['reg_name'].tolist()[0])\n",
    "        sex = str(filteredlist['sex'].tolist()[0])\n",
    "        anzahl = len(filteredlist[mergeover])\n",
    "\n",
    "        years = filteredlist['date'].astype(str).replace({np.nan: \"None\"})\n",
    "        years = \", \".join(years.tolist()).replace(\".0\", \"\")\n",
    "        xmls = \", \".join(filteredlist['xml'].tolist())\n",
    "\n",
    "        sublist =[id,  name, sex, anzahl, xmls, years]\n",
    "        newlist.append(sublist)\n",
    "\n",
    "    writetotable(newlist)\n",
    "\n",
    "\n",
    "\n",
    "\n",
    "def writetotable(newlist):\n",
    "    newFrame = pd.DataFrame()\n",
    "    id =[]\n",
    "    name =[]\n",
    "    sex =[]\n",
    "    anzahl = []\n",
    "    xml =[]\n",
    "    year = []\n",
    "\n",
    "    for entry in newlist:\n",
    "        id.append(entry[0])\n",
    "        name.append(entry[1])\n",
    "        sex.append(entry[2])\n",
    "        anzahl.append(entry[3])\n",
    "        xml.append(entry[4])\n",
    "        year.append(entry[5])\n",
    "\n",
    "    newFrame['ID'] = id\n",
    "    newFrame['name'] = name\n",
    "    newFrame['sex'] = sex\n",
    "    newFrame['anzahl'] = anzahl\n",
    "    newFrame['xml'] = xml\n",
    "    newFrame['year'] = year\n",
    "\n",
    "    newFrame.to_csv(\"../../data/output/csv/MergedAllPersons.csv\", sep=\"\\t\", encoding=\"ISO-8859-1\")\n",
    "    writer = pd.ExcelWriter('../data/output/xlsx/MergedAllPersons.xlsx')\n",
    "    newFrame.to_excel(writer, 'AllPersons', index=False)\n",
    "    writer.save()\n",
    "\n",
    "mergeTable(\"../../data/output/csv/extractedAllPersons.csv\", 'ID')"
   ],
   "metadata": {
    "collapsed": false,
    "pycharm": {
     "name": "#%%\n"
    }
   }
  }
 ],
 "metadata": {
  "kernelspec": {
   "display_name": "Python 3",
   "language": "python",
   "name": "python3"
  },
  "language_info": {
   "codemirror_mode": {
    "name": "ipython",
    "version": 2
   },
   "file_extension": ".py",
   "mimetype": "text/x-python",
   "name": "python",
   "nbconvert_exporter": "python",
   "pygments_lexer": "ipython2",
   "version": "2.7.6"
  }
 },
 "nbformat": 4,
 "nbformat_minor": 0
}