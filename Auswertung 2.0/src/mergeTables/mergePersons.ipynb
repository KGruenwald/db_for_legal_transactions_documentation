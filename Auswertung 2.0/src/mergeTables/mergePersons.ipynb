{
 "cells": [
  {
   "cell_type": "code",
   "execution_count": 2,
   "outputs": [],
   "source": [
    "import pandas as pd\n",
    "import numpy as np\n",
    "\n",
    "\n",
    "def mergeTable(csv, mergeover):\n",
    "\n",
    "    csv = pd.read_csv(csv, encoding=\"ISO-8859-1\", delimiter=\"\\t\")\n",
    "\n",
    "\n",
    "    filteredlist = csv[mergeover]\n",
    "    filteredset = set(filteredlist)\n",
    "    filteredlist = list(filteredset)\n",
    "\n",
    "    newlist = []\n",
    "    for item in filteredlist:\n",
    "        filter = csv[mergeover] == item\n",
    "        filteredlist = csv[filter]\n",
    "        id = filteredlist['ID'].tolist()[0]\n",
    "        name = str(filteredlist['reg_name'].tolist()[0])\n",
    "        sex = str(filteredlist['sex'].tolist()[0])\n",
    "        anzahl = len(filteredlist[mergeover])\n",
    "\n",
    "        years = filteredlist['date'].astype(str).replace({np.nan: \"None\"})\n",
    "        years = \", \".join(years.tolist()).replace(\".0\", \"\")\n",
    "        xmls = \", \".join(filteredlist['xml'].tolist())\n",
    "\n",
    "        sublist =[id,  name, sex, anzahl, xmls, years]\n",
    "        newlist.append(sublist)\n",
    "\n",
    "    writetotable(newlist)\n",
    "\n",
    "\n",
    "\n",
    "\n",
    "def writetotable(newlist):\n",
    "    newFrame = pd.DataFrame()\n",
    "    id =[]\n",
    "    name =[]\n",
    "    sex =[]\n",
    "    anzahl = []\n",
    "    xml =[]\n",
    "    year = []\n",
    "\n",
    "    for entry in newlist:\n",
    "        id.append(entry[0])\n",
    "        name.append(entry[1])\n",
    "        sex.append(entry[2])\n",
    "        anzahl.append(entry[3])\n",
    "        xml.append(entry[4])\n",
    "        year.append(entry[5])\n",
    "\n",
    "    newFrame['ID'] = id\n",
    "    newFrame['name'] = name\n",
    "    newFrame['sex'] = sex\n",
    "    newFrame['anzahl'] = anzahl\n",
    "    newFrame['xml'] = xml\n",
    "    newFrame['year'] = year\n",
    "\n",
    "    newFrame.to_csv(\"../../data/MergedPersons.csv\", sep=\"\\t\", encoding=\"ISO-8859-1\")\n",
    "\n",
    "\n",
    "mergeTable(\"../../data/AllPersons.csv\", 'ID')\n",
    "print(\"done\")"
   ],
   "metadata": {
    "collapsed": false,
    "pycharm": {
     "name": "#%%\n"
    }
   }
  }
 ],
 "metadata": {
  "kernelspec": {
   "display_name": "Python 3",
   "language": "python",
   "name": "python3"
  },
  "language_info": {
   "codemirror_mode": {
    "name": "ipython",
    "version": 2
   },
   "file_extension": ".py",
   "mimetype": "text/x-python",
   "name": "python",
   "nbconvert_exporter": "python",
   "pygments_lexer": "ipython2",
   "version": "2.7.6"
  }
 },
 "nbformat": 4,
 "nbformat_minor": 0
}